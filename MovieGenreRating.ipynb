{
 "cells": [
  {
   "cell_type": "code",
   "execution_count": 61,
   "metadata": {},
   "outputs": [],
   "source": [
    "# 1: Reading csv\n",
    "import pandas as pd\n",
    "from sklearn.model_selection import train_test_split\n",
    "from sklearn.linear_model import LinearRegression\n",
    "from sklearn.metrics import mean_squared_error\n",
    "from sklearn.preprocessing import MultiLabelBinarizer\n",
    "\n",
    "df = pd.read_csv('imdb_top_2000_movies.csv')\n"
   ]
  },
  {
   "cell_type": "code",
   "execution_count": 63,
   "metadata": {},
   "outputs": [
    {
     "name": "stdout",
     "output_type": "stream",
     "text": [
      "Index(['Action', 'Adventure', 'Animation', 'Biography', 'Comedy', 'Crime',\n",
      "       'Documentary', 'Drama', 'Family', 'Fantasy', 'Film-Noir', 'History',\n",
      "       'Horror', 'Music', 'Musical', 'Mystery', 'Romance', 'Sci-Fi', 'Sport',\n",
      "       'Thriller', 'War', 'Western'],\n",
      "      dtype='object')\n"
     ]
    }
   ],
   "source": [
    "# 2: Genre One Hot Encoding\n",
    "mlb = MultiLabelBinarizer()\n",
    "genres_encoded = mlb.fit_transform(df['Genre'].str.split(', '))\n",
    "genres_df = pd.DataFrame(genres_encoded, columns=mlb.classes_)\n",
    "df_encoded = pd.concat([df, genres_df], axis=1)\n",
    "\n",
    "df_encoded.drop(columns=['Genre'], inplace=True)\n",
    "print(genres_df.columns)"
   ]
  },
  {
   "cell_type": "code",
   "execution_count": 64,
   "metadata": {},
   "outputs": [
    {
     "name": "stdout",
     "output_type": "stream",
     "text": [
      "Index(['Action', 'Adventure', 'Animation', 'Biography', 'Comedy', 'Crime',\n",
      "       'Documentary', 'Drama', 'Family', 'Fantasy', 'Film-Noir', 'History',\n",
      "       'Horror', 'Music', 'Musical', 'Mystery', 'Romance', 'Sci-Fi', 'Sport',\n",
      "       'Thriller', 'War', 'Western'],\n",
      "      dtype='object')\n"
     ]
    }
   ],
   "source": [
    "# 3: Test and Training Set Split\n",
    "X = df_encoded[genres_df.columns.to_list()]\n",
    "y = df_encoded['IMDB Rating']\n",
    "X_train, X_test, y_train, y_test = train_test_split(X, y, test_size=0.2, random_state=210)\n",
    "print(X_train.columns)"
   ]
  },
  {
   "cell_type": "code",
   "execution_count": 66,
   "metadata": {},
   "outputs": [
    {
     "data": {
      "text/plain": [
       "LinearRegression()"
      ]
     },
     "execution_count": 66,
     "metadata": {},
     "output_type": "execute_result"
    }
   ],
   "source": [
    "# 4: Simple Linear Reg Model\n",
    "regressor = LinearRegression()\n",
    "regressor.fit(X_train, y_train)"
   ]
  },
  {
   "cell_type": "code",
   "execution_count": 58,
   "metadata": {},
   "outputs": [
    {
     "name": "stdout",
     "output_type": "stream",
     "text": [
      "Mean Squared Error: 0.7498255960453255\n",
      "        Feature  Coefficient\n",
      "0        Action    -0.402529\n",
      "1     Adventure    -0.098391\n",
      "2     Animation     0.479207\n",
      "3     Biography     0.076321\n",
      "4        Comedy    -0.397280\n",
      "5         Crime    -0.045424\n",
      "6   Documentary     0.025936\n",
      "7         Drama     0.371840\n",
      "8        Family    -0.319069\n",
      "9       Fantasy    -0.225759\n",
      "10    Film-Noir     0.668115\n",
      "11      History    -0.119954\n",
      "12       Horror    -0.495382\n",
      "13        Music    -0.490571\n",
      "14      Musical     0.138269\n",
      "15      Mystery    -0.113684\n",
      "16      Romance    -0.275872\n",
      "17       Sci-Fi    -0.179411\n",
      "18        Sport    -0.307090\n",
      "19     Thriller    -0.107048\n",
      "20          War     0.383016\n",
      "21      Western     0.488075\n"
     ]
    }
   ],
   "source": [
    "# Evaluate the model\n",
    "y_pred = regressor.predict(X_test)\n",
    "mse = mean_squared_error(y_test, y_pred)\n",
    "print(\"Mean Squared Error:\", mse)\n",
    "\n",
    "coefficients = pd.DataFrame({'Feature': X.columns, 'Coefficient': regressor.coef_})\n",
    "print(coefficients)"
   ]
  },
  {
   "cell_type": "code",
   "execution_count": 59,
   "metadata": {},
   "outputs": [
    {
     "data": {
      "image/png": "[encoded data removed]",
      "text/plain": [
       "<Figure size 720x432 with 1 Axes>"
      ]
     },
     "metadata": {
      "needs_background": "light"
     },
     "output_type": "display_data"
    },
    {
     "name": "stdout",
     "output_type": "stream",
     "text": [
      "Index(['Action', 'Adventure', 'Animation', 'Biography', 'Comedy', 'Crime',\n",
      "       'Drama', 'Family', 'Fantasy', 'Film-Noir', 'History', 'Horror', 'Music',\n",
      "       'Musical', 'Mystery', 'Romance', 'Sci-Fi', 'Sport', 'Thriller', 'War',\n",
      "       'Western'],\n",
      "      dtype='object')\n"
     ]
    }
   ],
   "source": [
    "# 5: Lasso Reg for Feature Selection\n",
    "from sklearn.linear_model import LassoCV\n",
    "import numpy as np\n",
    "\n",
    "lasso = LassoCV(cv=10)\n",
    "lasso.fit(X_train, y_train)\n",
    "\n",
    "selected_features = X.columns[lasso.coef_ != 0]\n",
    "coefficients = lasso.coef_[lasso.coef_ != 0]\n",
    "\n",
    "plt.figure(figsize=(10, 6))\n",
    "plt.barh(selected_features, coefficients)\n",
    "plt.xlabel('Coefficient Value')\n",
    "plt.ylabel('Feature')\n",
    "plt.title('Lasso Regression Coefficients')\n",
    "plt.show()\n",
    "print(selected_features)\n"
   ]
  }
 ],
 "metadata": {
  "kernelspec": {
   "display_name": "base",
   "language": "python",
   "name": "python3"
  },
  "language_info": {
   "codemirror_mode": {
    "name": "ipython",
    "version": 3
   },
   "file_extension": ".py",
   "mimetype": "text/x-python",
   "name": "python",
   "nbconvert_exporter": "python",
   "pygments_lexer": "ipython3",
   "version": "3.9.7"
  }
 },
 "nbformat": 4,
 "nbformat_minor": 2
}
